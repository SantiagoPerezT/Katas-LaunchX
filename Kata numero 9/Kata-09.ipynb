{
 "cells": [
  {
   "cell_type": "markdown",
   "metadata": {},
   "source": [
    "# Ejercicio: Uso de funciones en Python\n",
    "\n",
    "### Ejercicio 1: Trabajar con argumentos en funciones\n",
    "\n",
    "Los argumentos requeridos en las funciones se utilizan cuando las funciones necesitan que esos argumentos funcionen correctamente. En este ejercicio, construirás un informe de combustible que requiere información de varias ubicaciones de combustible en todo el cohete.\n",
    "\n",
    "Comienza por crear una función que necesite tres lecturas de combustible y devuelva un informe:"
   ]
  },
  {
   "cell_type": "code",
   "execution_count": null,
   "metadata": {},
   "outputs": [],
   "source": [
    "def reporte_general(tanque_gasolina, tanque_reserva, segudo_tanque):\n",
    "    total_gasolina=(tanque_gasolina+tanque_reserva+segudo_tanque) / 3\n",
    "    print(f\"\"\"   ---Reporte de Gasolina ---\n",
    "    Promedio de gasolina: {total_gasolina}%\n",
    "    Tanque de gasolina: {tanque_gasolina}%\n",
    "    Tanque de reserva: {tanque_reserva}%\n",
    "    Segundo tanque de gasolina: {segudo_tanque}%\n",
    "    \"\"\")\n",
    "print(reporte_general(50,70,100));\n"
   ]
  },
  {
   "cell_type": "code",
   "execution_count": null,
   "metadata": {},
   "outputs": [],
   "source": [
    "\n",
    "# Función promedio\n",
    "def promedio(values):\n",
    "    total=sum(values);\n",
    "    numero_de_elementos = len(values);\n",
    "    return total / numero_de_elementos\n",
    "\n",
    "print(promedio([50,70,100]));\n"
   ]
  },
  {
   "cell_type": "code",
   "execution_count": 19,
   "metadata": {},
   "outputs": [
    {
     "name": "stdout",
     "output_type": "stream",
     "text": [
      "   ---Reporte de Gasolina ---\n",
      "    Promedio de gasolina: 63.333333333333336%\n",
      "    Tanque de gasolina: 35%\n",
      "    Tanque de reserva: 65%\n",
      "    Segundo tanque de gasolina: 90%\n",
      "    \n",
      "None\n"
     ]
    }
   ],
   "source": [
    "\n",
    "# Actualiza la función\n",
    "\n",
    "def reporte_general_optimizado(tanque_gasolina, tanque_reserva, segudo_tanque):\n",
    "    print(f\"\"\"   ---Reporte de Gasolina ---\n",
    "    Promedio de gasolina: {promedio([tanque_gasolina, tanque_reserva, segudo_tanque])}%\n",
    "    Tanque de gasolina: {tanque_gasolina}%\n",
    "    Tanque de reserva: {tanque_reserva}%\n",
    "    Segundo tanque de gasolina: {segudo_tanque}%\n",
    "    \"\"\")\n",
    "print(reporte_general_optimizado(35,65,90));\n"
   ]
  },
  {
   "cell_type": "markdown",
   "metadata": {},
   "source": [
    "## Ejercicio 2: Trabajo con argumentos de palabra clave\n",
    "\n",
    "### Ejercicio : Trabajar con argumentos de palabras clave en funciones\n",
    "En este ejercicio, construirás un informe de cohete que requiere varias piezas de información, como el tiempo hasta el destino, el combustible a la izquierda y el nombre del destino. Comienza por crear una función que creará un informe preciso de la misión:\n",
    "\n",
    "La función es problemática porque no se puede adaptar para minutos adicionales o tanques adicionales de combustible. Hazlo más flexible permitiendo cualquier número de pasos basados en el tiempo y cualquier número de tanques. En lugar de usar `*args` y `**kwargs`, aprovecha el hecho de que puedes usar cualquier nombre que desees. Asegurate que la función sea más legible mediante el uso de nombres de variables que están asociados con las entradas, como `*minutes` y `**fuel_reservoirs`:\n",
    "\n",
    "Debido a que el combustible que queda en los tanques es específico de cada tanque, actualiza la función para usar el nombre de cada tanque en el informe:"
   ]
  },
  {
   "cell_type": "code",
   "execution_count": 21,
   "metadata": {},
   "outputs": [
    {
     "name": "stdout",
     "output_type": "stream",
     "text": [
      " \n",
      "    El destino es: Moon\n",
      "    El tiempo recorrido es: 65 minutos\n",
      "    Gasolina total o restante: 500000 galones\n",
      "    \n"
     ]
    }
   ],
   "source": [
    "# Función con un informe preciso de la misión. Considera hora de prelanzamiento, tiempo de vuelo, destino, tanque externo y tanque interno\n",
    "\n",
    "def informe_mision(hora_prelazamiento, tiempo_vuelo, destino, tanque_externo, tanque_interno ):\n",
    "    return f\"\"\" \n",
    "    El destino es: {destino}\n",
    "    El tiempo recorrido es: {hora_prelazamiento+tiempo_vuelo} minutos\n",
    "    Gasolina total o restante: {tanque_externo+tanque_interno} galones\n",
    "    \"\"\"\n",
    "print(informe_mision(14, 51, \"Moon\", 200000, 300000));"
   ]
  },
  {
   "cell_type": "code",
   "execution_count": 24,
   "metadata": {},
   "outputs": [
    {
     "name": "stdout",
     "output_type": "stream",
     "text": [
      " \n",
      "    El destino es: Moon\n",
      "    El tiempo recorrido es: 91 minutos\n",
      "    Gasolina total o restante: 500000 galones\n",
      "    \n"
     ]
    }
   ],
   "source": [
    "# Escribe tu nueva función de reporte considerando lo anterior\n",
    "\n",
    "def informe_mision_dos(destino, *tiempo, **gasolina):\n",
    "    return f\"\"\" \n",
    "    El destino es: {destino}\n",
    "    El tiempo recorrido es: {sum(tiempo)} minutos\n",
    "    Gasolina total o restante: {sum(gasolina.values())} galones\n",
    "    \"\"\"\n",
    "print(informe_mision_dos(\"Moon\", 14, 52, 25, interior=200000, exterior=300000));"
   ]
  },
  {
   "cell_type": "code",
   "execution_count": 28,
   "metadata": {},
   "outputs": [
    {
     "name": "stdout",
     "output_type": "stream",
     "text": [
      " \n",
      "    El destino es: Moon\n",
      "    El tiempo recorrido es: 91 minutos\n",
      "    Gasolina total o restante: 500000 \n",
      "    interior tank --> 200000 galones izquierda\n",
      "exterior tank --> 300000 galones izquierda\n",
      "\n"
     ]
    }
   ],
   "source": [
    "# Escribe tu nueva función actualizando\n",
    "def informe_mision_tres(destino, *tiempo, **gasolina):\n",
    "    reporte = f\"\"\" \n",
    "    El destino es: {destino}\n",
    "    El tiempo recorrido es: {sum(tiempo)} minutos\n",
    "    Gasolina total o restante: {sum(gasolina.values())} \n",
    "    \"\"\"\n",
    "    for nombre_tanque, galones in gasolina.items():\n",
    "        reporte += f\"{nombre_tanque} tank --> {galones} galones izquierda\\n\"\n",
    "    return reporte\n",
    "\n",
    "print(informe_mision_tres(\"Moon\", 14, 52, 25, interior=200000, exterior=300000));\n"
   ]
  }
 ],
 "metadata": {
  "interpreter": {
   "hash": "63fd5069d213b44bf678585dea6b12cceca9941eaf7f819626cde1f2670de90d"
  },
  "kernelspec": {
   "display_name": "Python 3.9.6 64-bit",
   "language": "python",
   "name": "python3"
  },
  "language_info": {
   "codemirror_mode": {
    "name": "ipython",
    "version": 3
   },
   "file_extension": ".py",
   "mimetype": "text/x-python",
   "name": "python",
   "nbconvert_exporter": "python",
   "pygments_lexer": "ipython3",
   "version": "3.9.6"
  },
  "orig_nbformat": 4
 },
 "nbformat": 4,
 "nbformat_minor": 2
}
