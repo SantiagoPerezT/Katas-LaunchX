{
 "cells": [
  {
   "cell_type": "markdown",
   "metadata": {},
   "source": [
    "# Manual de la Nave"
   ]
  },
  {
   "cell_type": "code",
   "execution_count": null,
   "metadata": {},
   "outputs": [],
   "source": [
    "import ipywidgets as widgets\n",
    "\n",
    "ignition = widgets.ToggleButton(\n",
    "    value=False,\n",
    "    description='Iniciar Launch',\n",
    "    button_style='success',\n",
    "    tooltip='Engage your Launch',\n",
    "    icon='rocket'\n",
    ")\n",
    "output = widgets.Output()\n",
    "\n",
    "display(ignition, output)\n",
    "\n",
    "def on_value_change(change):\n",
    "    with output:\n",
    "        if change['new'] == True:\n",
    "            print(\"Nave Iniciada!\")\n",
    "            print(\"Ajuste su cinturon\")\n",
    "            print(\"Coloquese en un lugar seguro, vamos a despegar\")\n",
    "        else:   \n",
    "            print(\"Nave Detenida\")\n",
    "            print(\"Listo!\")\n",
    "            print(\"Hemos llegado a nuestro destino\")\n",
    "\n",
    "ignition.observe(on_value_change, names='value')\n"
   ]
  },
  {
   "cell_type": "markdown",
   "metadata": {},
   "source": [
    "## Version que podria mejorar el uso\n",
    "\n",
    "Creo que sun solo boton para tanto el despegue como el aterrizaje es poco intuitivo, puesto que este no cambia de color y ni aclara que ya despegamos o que estamos en el espacio. Por lo cual, con los conocimientos solamente vistos en la practica, trate de realizar un segundo boton el cual sirviera para aterrizar la nave, esto ayudando al usuario a que el programa sea mas intuitivo y de esa menare sepa como se despega y se aterriza.\n",
    "\n",
    "En un futuro ya avanzando en el curso y teniendo un poco mas de conocimientos, creo yo que podria regresarme a este apartado para solucionar unos cuantos problemas y arreglar el diseño pues me gustaria que el boton de aterrizaje estubiera a la derecha del boton de lanzamiento. Al igual que me gustaria cambiar el hecho de que los botones cambien de valor para de esa manera asiganarles un valor fijo(True and False) y no haya errores."
   ]
  },
  {
   "cell_type": "code",
   "execution_count": null,
   "metadata": {},
   "outputs": [],
   "source": [
    "import ipywidgets as widgets\n",
    "\n",
    "ignition = widgets.ToggleButton(\n",
    "    value=False,\n",
    "    description='Iniciar Launch',\n",
    "    button_style='success',\n",
    "    tooltip='Engage your Launch',\n",
    "    icon='rocket'\n",
    ")\n",
    "landing = widgets.ToggleButton(\n",
    "    options='Aterrizar launch',\n",
    "    value=True,\n",
    "    description='Aterrizaje Launch',\n",
    "    button_style='warning',\n",
    "    tooltips='Set landing',\n",
    "    icon='rocket',\n",
    ")\n",
    "output = widgets.Output()\n",
    "\n",
    "display(ignition, landing, output)\n",
    "\n",
    "def on_value_change(change):\n",
    "    with output:\n",
    "        if change['new'] == True:\n",
    "            print(\"Nave Iniciada!\")\n",
    "            print(\"Ajuste su cinturon\")\n",
    "            print(\"Coloquese en un lugar seguro, vamos a despegar\")\n",
    "        else:   \n",
    "            print(\"Nave Detenida\")\n",
    "            print(\"Listo!\")\n",
    "            print(\"Hemos llegado a nuestro destino\")\n",
    "\n",
    "ignition.observe(on_value_change, names='value')\n",
    "landing.observe(on_value_change, names='value')"
   ]
  },
  {
   "cell_type": "markdown",
   "metadata": {},
   "source": [
    "## Niveles de oxigenación\n",
    "muestra diez minutos de niveles de oxigeno en tu nave."
   ]
  },
  {
   "cell_type": "code",
   "execution_count": 83,
   "metadata": {},
   "outputs": [
    {
     "data": {
      "image/png": "[encoded data removed]",
      "text/plain": [
       "<Figure size 432x288 with 1 Axes>"
      ]
     },
     "metadata": {
      "needs_background": "light"
     },
     "output_type": "display_data"
    }
   ],
   "source": [
    "import numpy as np\n",
    "import matplotlib.pyplot as plt\n",
    "data = np.random.default_rng(123456)\n",
    "oxy_nums = data.integers(low=0, high=10, size=10)\n",
    "\n",
    "plt.bar(range(len(oxy_nums)), oxy_nums)\n",
    "plt.show()"
   ]
  },
  {
   "cell_type": "markdown",
   "metadata": {},
   "source": [
    "## Aprovechamiento de la practica\n",
    "\n",
    "Por jugar un poco mas con esta graficas y su variables me plantie el siguiente ejercicio:\n",
    "\n",
    "La nave fue chocada por basura espacial, y ahora tenemos una averia en la nave pero esta no esta tan grave y sera reparada en 5 minutos. Tendremos que estar preparado para lo peor por lo cual tienes como encargo el mostrarnos los niveles de oxigeno de los 15 minutos teniendo en cuenta que tenemos una perdida del mismo.\n",
    "\n",
    "Manos a la obra!"
   ]
  },
  {
   "cell_type": "code",
   "execution_count": 92,
   "metadata": {},
   "outputs": [
    {
     "data": {
      "image/png": "[encoded data removed]",
      "text/plain": [
       "<Figure size 432x288 with 1 Axes>"
      ]
     },
     "metadata": {
      "needs_background": "light"
     },
     "output_type": "display_data"
    }
   ],
   "source": [
    "import numpy as np\n",
    "import matplotlib.pyplot as plt\n",
    "data = np.random.default_rng(12345)\n",
    "oxy_nums = data.integers(low=-5, high=15, size=15)\n",
    "\n",
    "plt.bar(range(len(oxy_nums)), oxy_nums)\n",
    "plt.show()"
   ]
  },
  {
   "cell_type": "markdown",
   "metadata": {},
   "source": [
    "## Velocidad de la nave\n",
    "\n",
    "Muestra los segundos necesarios para pasar de 0 a 11200 metros por segundo, dada la aceleración de la nave en metros por segundo."
   ]
  },
  {
   "cell_type": "code",
   "execution_count": 94,
   "metadata": {},
   "outputs": [
    {
     "name": "stdout",
     "output_type": "stream",
     "text": [
      "Tiempo para alcanzar la velocidad deseada =  1448.9795918367347\n"
     ]
    }
   ],
   "source": [
    "endVelocity = 14200\n",
    "startVelocity = 0\n",
    "acceleration = 9.8\n",
    "\n",
    "time = (endVelocity - startVelocity) / acceleration\n",
    "print(\"Tiempo para alcanzar la velocidad deseada = \", time)"
   ]
  },
  {
   "cell_type": "code",
   "execution_count": 98,
   "metadata": {},
   "outputs": [
    {
     "name": "stdout",
     "output_type": "stream",
     "text": [
      "Tu aceleracion ahora mismo es de:  50.0\n"
     ]
    }
   ],
   "source": [
    "time = 20\n",
    "startVelocity = 0\n",
    "endVelocity = 1000\n",
    "\n",
    "acceleration= (endVelocity - startVelocity) / time\n",
    "print(\"Tu aceleracion ahora mismo es de: \", acceleration)"
   ]
  },
  {
   "cell_type": "code",
   "execution_count": 97,
   "metadata": {},
   "outputs": [
    {
     "name": "stdout",
     "output_type": "stream",
     "text": [
      "Esta es tu velocidad total:  1000\n"
     ]
    }
   ],
   "source": [
    "time = 20\n",
    "acceleration = 50\n",
    "\n",
    "TotalVelocity = time * acceleration\n",
    "print(\"Esta es tu velocidad total: \", TotalVelocity)"
   ]
  }
 ],
 "metadata": {
  "interpreter": {
   "hash": "63fd5069d213b44bf678585dea6b12cceca9941eaf7f819626cde1f2670de90d"
  },
  "kernelspec": {
   "display_name": "Python 3.9.6 64-bit",
   "language": "python",
   "name": "python3"
  },
  "language_info": {
   "codemirror_mode": {
    "name": "ipython",
    "version": 3
   },
   "file_extension": ".py",
   "mimetype": "text/x-python",
   "name": "python",
   "nbconvert_exporter": "python",
   "pygments_lexer": "ipython3",
   "version": "3.9.6"
  },
  "orig_nbformat": 4
 },
 "nbformat": 4,
 "nbformat_minor": 2
}
