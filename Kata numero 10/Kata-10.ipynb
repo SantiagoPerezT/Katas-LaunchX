{
 "cells": [
  {
   "cell_type": "code",
   "execution_count": 2,
   "metadata": {},
   "outputs": [
    {
     "ename": "IndentationError",
     "evalue": "expected an indented block (2537692717.py, line 6)",
     "output_type": "error",
     "traceback": [
      "\u001b[1;36m  Input \u001b[1;32mIn [2]\u001b[1;36m\u001b[0m\n\u001b[1;33m    main()\u001b[0m\n\u001b[1;37m    ^\u001b[0m\n\u001b[1;31mIndentationError\u001b[0m\u001b[1;31m:\u001b[0m expected an indented block\n"
     ]
    }
   ],
   "source": [
    "def main():\n",
    "    open(\"/path/to/mars.jpg\")\n",
    "\n",
    "if __name__ == '__main__':\n",
    "\n",
    "main()"
   ]
  },
  {
   "cell_type": "code",
   "execution_count": 9,
   "metadata": {},
   "outputs": [
    {
     "name": "stdout",
     "output_type": "stream",
     "text": [
      "No se pudo encontrar el archivo config.txt !\n"
     ]
    }
   ],
   "source": [
    "try: \n",
    "    open('config.txt');\n",
    "except FileNotFoundError:\n",
    "    print('No se pudo encontrar el archivo config.txt !');"
   ]
  },
  {
   "cell_type": "code",
   "execution_count": 7,
   "metadata": {},
   "outputs": [
    {
     "name": "stdout",
     "output_type": "stream",
     "text": [
      "No se pudo encontrar el archivo config.txt !\n"
     ]
    }
   ],
   "source": [
    "def main():\n",
    "    try:\n",
    "        configuration = open('config.txt')\n",
    "    except FileNotFoundError:\n",
    "        print(\"No se pudo encontrar el archivo config.txt !\")\n",
    "\n",
    "\n",
    "if __name__ == '__main__':\n",
    "    main()"
   ]
  },
  {
   "cell_type": "code",
   "execution_count": 8,
   "metadata": {},
   "outputs": [],
   "source": [
    "def main():\n",
    "    try:\n",
    "        configuration = open('config.txt')\n",
    "    except Exception:\n",
    "        print(\"No se pudo encontrar el archivo config.txt !\")"
   ]
  },
  {
   "cell_type": "code",
   "execution_count": null,
   "metadata": {},
   "outputs": [],
   "source": [
    "#Mejora del codigo anterior\n",
    "def main():\n",
    "    try:\n",
    "        configuration = open('config.txt')\n",
    "    except FileNotFoundError:\n",
    "        print(\"No se pudo encontrar el archivo config.txt !\")\n",
    "    except IsADirectoryError:\n",
    "        print(\"Encontre el archivo config.txt, pero es un directorio y yo no puedo leer esto\")\n"
   ]
  },
  {
   "cell_type": "code",
   "execution_count": 10,
   "metadata": {},
   "outputs": [],
   "source": [
    "def main():\n",
    "    try:\n",
    "        configuration = open('config.txt')\n",
    "    except FileNotFoundError:\n",
    "        print(\"No se pudo encontrar el archivo config.txt\")\n",
    "    except IsADirectoryError:\n",
    "        print(\"Encontre el archivo config.txt, pero es un directorio y yo no puedo leer esto\")\n",
    "    except (BlockingIOError, TimeoutError):\n",
    "        print(\"El archivo ejerce mucha carga, no puedo leerlo por completo\")"
   ]
  },
  {
   "cell_type": "code",
   "execution_count": 11,
   "metadata": {},
   "outputs": [
    {
     "name": "stdout",
     "output_type": "stream",
     "text": [
      "Disculpa, tengo un error al leer el programa:  [Errno 2] No such file or directory: 'mars.jpg'\n"
     ]
    }
   ],
   "source": [
    "try:\n",
    "    open(\"mars.jpg\")\n",
    "except FileNotFoundError as err:\n",
    "    print(\"Disculpa, tengo un error al leer el programa: \", err)"
   ]
  },
  {
   "cell_type": "code",
   "execution_count": 12,
   "metadata": {},
   "outputs": [
    {
     "name": "stdout",
     "output_type": "stream",
     "text": [
      "No se pudo encontrar el archivo config.txt\n"
     ]
    }
   ],
   "source": [
    "try:\n",
    "    open(\"config.txt\")\n",
    "except OSError as err:\n",
    "    if err.errno == 2:\n",
    "        print(\"No se pudo encontrar el archivo config.txt\")\n",
    "    elif err.errno == 13:\n",
    "        print(\"Encontre el archivo config.txt, pero es un directorio y yo no puedo leer esto\")"
   ]
  },
  {
   "cell_type": "markdown",
   "metadata": {},
   "source": [
    "### Usando funciones\n"
   ]
  },
  {
   "cell_type": "code",
   "execution_count": 14,
   "metadata": {},
   "outputs": [
    {
     "data": {
      "text/plain": [
       "'Total water left after 2 days is: -10 liters'"
      ]
     },
     "execution_count": 14,
     "metadata": {},
     "output_type": "execute_result"
    }
   ],
   "source": [
    "def agua_izquierda(astronautas, agua_izquierda, dias_izquierdos):\n",
    "    daily_usage = astronautas * 11\n",
    "    total_usage = daily_usage * dias_izquierdos\n",
    "    total_water_left = agua_izquierda - total_usage\n",
    "    return f\"Total water left after {dias_izquierdos} days is: {total_water_left} liters\"\n",
    "agua_izquierda(5, 100, 2)"
   ]
  },
  {
   "cell_type": "code",
   "execution_count": 23,
   "metadata": {},
   "outputs": [
    {
     "ename": "NameError",
     "evalue": "name 'none' is not defined",
     "output_type": "error",
     "traceback": [
      "\u001b[1;31m---------------------------------------------------------------------------\u001b[0m",
      "\u001b[1;31mNameError\u001b[0m                                 Traceback (most recent call last)",
      "\u001b[1;32md:\\Programa LaunchX\\Kata-10.ipynb Cell 11'\u001b[0m in \u001b[0;36m<module>\u001b[1;34m\u001b[0m\n\u001b[0;32m      <a href='vscode-notebook-cell:/d%3A/Programa%20LaunchX/Kata-10.ipynb#ch0000010?line=8'>9</a>\u001b[0m     \u001b[39mreturn\u001b[39;00m \u001b[39mf\u001b[39m\u001b[39m\"\u001b[39m\u001b[39mTotal water left after \u001b[39m\u001b[39m{\u001b[39;00mdias_izquierdos\u001b[39m}\u001b[39;00m\u001b[39m days is: \u001b[39m\u001b[39m{\u001b[39;00mtotal_water_left\u001b[39m}\u001b[39;00m\u001b[39m liters\u001b[39m\u001b[39m\"\u001b[39m\n\u001b[0;32m     <a href='vscode-notebook-cell:/d%3A/Programa%20LaunchX/Kata-10.ipynb#ch0000010?line=9'>10</a>\u001b[0m \u001b[39mtry\u001b[39;00m:\n\u001b[1;32m---> <a href='vscode-notebook-cell:/d%3A/Programa%20LaunchX/Kata-10.ipynb#ch0000010?line=10'>11</a>\u001b[0m     agua_izquierda(\u001b[39m\"\u001b[39m\u001b[39m5\u001b[39m\u001b[39m\"\u001b[39m, \u001b[39m\"\u001b[39m\u001b[39m100\u001b[39m\u001b[39m\"\u001b[39m, none)\n\u001b[0;32m     <a href='vscode-notebook-cell:/d%3A/Programa%20LaunchX/Kata-10.ipynb#ch0000010?line=11'>12</a>\u001b[0m \u001b[39mexcept\u001b[39;00m \u001b[39mRuntimeError\u001b[39;00m \u001b[39mas\u001b[39;00m err:\n\u001b[0;32m     <a href='vscode-notebook-cell:/d%3A/Programa%20LaunchX/Kata-10.ipynb#ch0000010?line=12'>13</a>\u001b[0m     alerta_navegacion_sistema(err)\n",
      "\u001b[1;31mNameError\u001b[0m: name 'none' is not defined"
     ]
    }
   ],
   "source": [
    "#Ingresamos validacion de errores\n",
    "\n",
    "def agua_izquierda(astronautas, agua_izquierda, dias_izquierdos):\n",
    "    daily_usage = astronautas * 11\n",
    "    total_usage = daily_usage * dias_izquierdos\n",
    "    total_water_left = agua_izquierda - total_usage\n",
    "    if total_water_left < 0:\n",
    "        raise RuntimeError(f\"\"\"No hay suficiente agua para {astronautas} astronautas despues de {dias_izquierdos} dias!\"\"\")\n",
    "    return f\"Total water left after {dias_izquierdos} days is: {total_water_left} liters\"\n",
    "try:\n",
    "    agua_izquierda(\"5\", \"100\", none)\n",
    "except RuntimeError as err:\n",
    "    alerta_navegacion_sistema(err)"
   ]
  },
  {
   "cell_type": "code",
   "execution_count": 25,
   "metadata": {},
   "outputs": [
    {
     "ename": "TypeError",
     "evalue": "can't multiply sequence by non-int of type 'NoneType'",
     "output_type": "error",
     "traceback": [
      "\u001b[1;31m---------------------------------------------------------------------------\u001b[0m",
      "\u001b[1;31mTypeError\u001b[0m                                 Traceback (most recent call last)",
      "\u001b[1;32md:\\Programa LaunchX\\Kata-10.ipynb Cell 12'\u001b[0m in \u001b[0;36m<module>\u001b[1;34m\u001b[0m\n\u001b[0;32m     <a href='vscode-notebook-cell:/d%3A/Programa%20LaunchX/Kata-10.ipynb#ch0000011?line=16'>17</a>\u001b[0m     \u001b[39mreturn\u001b[39;00m \u001b[39mf\u001b[39m\u001b[39m\"\u001b[39m\u001b[39mTotal water left after \u001b[39m\u001b[39m{\u001b[39;00mdias_izquierdos\u001b[39m}\u001b[39;00m\u001b[39m days is: \u001b[39m\u001b[39m{\u001b[39;00mtotal_water_left\u001b[39m}\u001b[39;00m\u001b[39m liters\u001b[39m\u001b[39m\"\u001b[39m\n\u001b[0;32m     <a href='vscode-notebook-cell:/d%3A/Programa%20LaunchX/Kata-10.ipynb#ch0000011?line=17'>18</a>\u001b[0m \u001b[39mtry\u001b[39;00m:\n\u001b[1;32m---> <a href='vscode-notebook-cell:/d%3A/Programa%20LaunchX/Kata-10.ipynb#ch0000011?line=18'>19</a>\u001b[0m     agua_izquierda(\u001b[39m\"\u001b[39;49m\u001b[39m5\u001b[39;49m\u001b[39m\"\u001b[39;49m, \u001b[39m\"\u001b[39;49m\u001b[39m100\u001b[39;49m\u001b[39m\"\u001b[39;49m, \u001b[39mNone\u001b[39;49;00m)\n\u001b[0;32m     <a href='vscode-notebook-cell:/d%3A/Programa%20LaunchX/Kata-10.ipynb#ch0000011?line=19'>20</a>\u001b[0m \u001b[39mexcept\u001b[39;00m \u001b[39mRuntimeError\u001b[39;00m \u001b[39mas\u001b[39;00m err:\n\u001b[0;32m     <a href='vscode-notebook-cell:/d%3A/Programa%20LaunchX/Kata-10.ipynb#ch0000011?line=20'>21</a>\u001b[0m     alerta_navegacion_sistema(err)\n",
      "\u001b[1;32md:\\Programa LaunchX\\Kata-10.ipynb Cell 11'\u001b[0m in \u001b[0;36magua_izquierda\u001b[1;34m(astronautas, agua_izquierda, dias_izquierdos)\u001b[0m\n\u001b[0;32m      <a href='vscode-notebook-cell:/d%3A/Programa%20LaunchX/Kata-10.ipynb#ch0000010?line=2'>3</a>\u001b[0m \u001b[39mdef\u001b[39;00m \u001b[39magua_izquierda\u001b[39m(astronautas, agua_izquierda, dias_izquierdos):\n\u001b[0;32m      <a href='vscode-notebook-cell:/d%3A/Programa%20LaunchX/Kata-10.ipynb#ch0000010?line=3'>4</a>\u001b[0m     daily_usage \u001b[39m=\u001b[39m astronautas \u001b[39m*\u001b[39m \u001b[39m11\u001b[39m\n\u001b[1;32m----> <a href='vscode-notebook-cell:/d%3A/Programa%20LaunchX/Kata-10.ipynb#ch0000010?line=4'>5</a>\u001b[0m     total_usage \u001b[39m=\u001b[39m daily_usage \u001b[39m*\u001b[39;49m dias_izquierdos\n\u001b[0;32m      <a href='vscode-notebook-cell:/d%3A/Programa%20LaunchX/Kata-10.ipynb#ch0000010?line=5'>6</a>\u001b[0m     total_water_left \u001b[39m=\u001b[39m agua_izquierda \u001b[39m-\u001b[39m total_usage\n\u001b[0;32m      <a href='vscode-notebook-cell:/d%3A/Programa%20LaunchX/Kata-10.ipynb#ch0000010?line=6'>7</a>\u001b[0m     \u001b[39mif\u001b[39;00m total_water_left \u001b[39m<\u001b[39m \u001b[39m0\u001b[39m:\n",
      "\u001b[1;31mTypeError\u001b[0m: can't multiply sequence by non-int of type 'NoneType'"
     ]
    }
   ],
   "source": [
    "#Actualizamos el codigo para el TypeError\n",
    "\n",
    "def water_left(astronautas, agua_izquierda, dias_izquierdos):\n",
    "    for argument in [astronautas, agua_izquierda, dias_izquierdos]:\n",
    "        try:\n",
    "            # If argument is an int, the following operation will work\n",
    "            argument / 10\n",
    "        except TypeError:\n",
    "            # TypError will be raised only if it isn't the right type \n",
    "            # Raise the same exception but with a better error message\n",
    "            raise TypeError(f\"All arguments must be of type int, but received: '{argument}'\")\n",
    "    daily_usage = astronautas * 11\n",
    "    total_usage = daily_usage * dias_izquierdos\n",
    "    total_water_left = agua_izquierda - total_usage\n",
    "    if total_water_left < 0:\n",
    "        raise RuntimeError(f\"\"\"No hay suficiente agua para {astronautas} astronautas despues de {dias_izquierdos} dias!\"\"\")\n",
    "    return f\"Total water left after {dias_izquierdos} days is: {total_water_left} liters\"\n",
    "try:\n",
    "    agua_izquierda(\"5\", \"100\", None)\n",
    "except RuntimeError as err:\n",
    "    alerta_navegacion_sistema(err)"
   ]
  }
 ],
 "metadata": {
  "interpreter": {
   "hash": "63fd5069d213b44bf678585dea6b12cceca9941eaf7f819626cde1f2670de90d"
  },
  "kernelspec": {
   "display_name": "Python 3.9.6 64-bit",
   "language": "python",
   "name": "python3"
  },
  "language_info": {
   "codemirror_mode": {
    "name": "ipython",
    "version": 3
   },
   "file_extension": ".py",
   "mimetype": "text/x-python",
   "name": "python",
   "nbconvert_exporter": "python",
   "pygments_lexer": "ipython3",
   "version": "3.9.6"
  },
  "orig_nbformat": 4
 },
 "nbformat": 4,
 "nbformat_minor": 2
}
