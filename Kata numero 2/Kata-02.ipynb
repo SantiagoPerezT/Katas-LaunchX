{
 "cells": [
  {
   "cell_type": "markdown",
   "metadata": {},
   "source": [
    "# Ejercicio - Crear un paquete\n",
    "\n",
    "En este ejercicio, aprenderás a utilizar entornos virtuales como una forma para no afectar a los paquetes instalados globalmente u otros programas que se ejecutan en tu máquina.\n",
    "\n",
    "*Para este ejercicio es necesario que lo ejecutes desde la terminal, línea de comandos, cmd, consola, cli, etc. de tu computadora, sé que es desafíante, pero no te preocupes ¡¡Sé que puedes lograrlo!!*\n",
    "\n",
    "## Crear un entorno virtual\n",
    "\n",
    "Crea un entorno virtual mediante ``venv``\n",
    "\n",
    "Primero es necesario el descargar un paquete el paquete de ``virtualenv`` e instalandolo desde la consola."
   ]
  },
  {
   "cell_type": "code",
   "execution_count": null,
   "metadata": {},
   "outputs": [],
   "source": [
    "pip install virtualenv\n",
    "\n",
    "#Para verificar si tenemos instalada la paqueteria podeos poner el siguiente comando en la consola y nos mostrara todo lo que tenemos instalado en el equipo y sus versiones\n",
    "\n",
    "pip freeze"
   ]
  },
  {
   "cell_type": "code",
   "execution_count": null,
   "metadata": {},
   "outputs": [],
   "source": [
    "#1. El primer paso es necesario el abrir la consola.\n",
    "#2. Seguido de esto, tenemos que tener instalada la libreria.\n",
    "#3. Una vez puesto la libreria y teniendo la consola abierto, tenemos que crear una carpeta donde estara el entorno virtual (Puede ser en cualquier lugar que querramos).\n",
    "#4. Seguido de esto, en la consola nos dirigiremos hacia nuestro directorio, para esot tendremos que conseguir la ruta de nuestra carpeta y acceder a ella con un ``cd``.\n",
    "\n",
    "#Este es mi caso puesto que aqui es donde yo quiero tener mi entorno virtual.\n",
    "cd C:\\Users\\santiago\\Desktop\\Programa LaunchX\n"
   ]
  },
  {
   "cell_type": "markdown",
   "metadata": {},
   "source": [
    "![Esta es una imagen de ejemplo](/Imagenes/Consola cd.png)"
   ]
  },
  {
   "cell_type": "code",
   "execution_count": null,
   "metadata": {},
   "outputs": [],
   "source": [
    "#5.Una vez ya estando en la carpeta donde haremos nuestro entorno virutal escribiremos el siguiente comando:\n",
    "virtualenv nombre\n",
    "\n",
    "#6.De esta manera habremos generado carpeta con diversos archivos, ahora para acceder a nuestro enterno virtual haremos lo siguiente.\n",
    "\n",
    ".\\nombre\\Scripts\\activate\n",
    "\n",
    "#Ya pesto esto podremos darnos cuenta que entramos al entorno virual puesto que estara de la siguiente manera"
   ]
  },
  {
   "cell_type": "code",
   "execution_count": 1,
   "metadata": {},
   "outputs": [
    {
     "ename": "SyntaxError",
     "evalue": "invalid syntax (555563885.py, line 3)",
     "output_type": "error",
     "traceback": [
      "\u001b[1;36m  Input \u001b[1;32mIn [1]\u001b[1;36m\u001b[0m\n\u001b[1;33m    pip install python-dateutil\u001b[0m\n\u001b[1;37m        ^\u001b[0m\n\u001b[1;31mSyntaxError\u001b[0m\u001b[1;31m:\u001b[0m invalid syntax\n"
     ]
    }
   ],
   "source": [
    "#Ya ingresado ya podemos hacer lo que querramos en nuestro campo virtual toca instalar el siguiente paquete:\n",
    "\n",
    "pip install python-dateutil\n",
    "\n",
    "#una vez instalado esto podemos comprobar que se instaldo bien ponieendo\n",
    "\n",
    "pip freeze"
   ]
  },
  {
   "cell_type": "code",
   "execution_count": null,
   "metadata": {},
   "outputs": [],
   "source": [
    "#Por ultimo salirnos de nuestro entorno virtual y para esto pondremos\n",
    "\n",
    "deactivate\n",
    "\n",
    "#Listo!"
   ]
  }
 ],
 "metadata": {
  "interpreter": {
   "hash": "63fd5069d213b44bf678585dea6b12cceca9941eaf7f819626cde1f2670de90d"
  },
  "kernelspec": {
   "display_name": "Python 3.9.6 64-bit",
   "language": "python",
   "name": "python3"
  },
  "language_info": {
   "codemirror_mode": {
    "name": "ipython",
    "version": 3
   },
   "file_extension": ".py",
   "mimetype": "text/x-python",
   "name": "python",
   "nbconvert_exporter": "python",
   "pygments_lexer": "ipython3",
   "version": "3.9.6"
  },
  "orig_nbformat": 4
 },
 "nbformat": 4,
 "nbformat_minor": 2
}
